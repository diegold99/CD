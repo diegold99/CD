{
 "cells": [
  {
   "cell_type": "markdown",
   "metadata": {},
   "source": [
    "# Exercício 3 do APS 7"
   ]
  },
  {
   "cell_type": "code",
   "execution_count": 2,
   "metadata": {
    "collapsed": true
   },
   "outputs": [],
   "source": [
    "import numpy as np\n",
    "import matplotlib as plt\n",
    "import pandas as pd\n",
    "from scipy import stats\n",
    "import math\n",
    "\n",
    "%matplotlib inline"
   ]
  },
  {
   "cell_type": "code",
   "execution_count": 3,
   "metadata": {
    "collapsed": true
   },
   "outputs": [],
   "source": [
    "l = [129.26, 204.49, 116.89, 106.4 , 95.3 , 123.35, 92.3 , 300.02, 264.34, 168.27, 80.02,\n",
    "117.96, 117.73, 370.47, 462.59, 92.58, 258.52, 82.59]\n",
    "a = pd.Series(l)\n",
    "n = len(a)"
   ]
  },
  {
   "cell_type": "code",
   "execution_count": 4,
   "metadata": {},
   "outputs": [
    {
     "name": "stdout",
     "output_type": "stream",
     "text": [
      "Média:  176.83777777777777\n",
      "Desvio padrão amostral:  110.95287190067022\n"
     ]
    }
   ],
   "source": [
    "xbarra = np.mean(a)\n",
    "dp = np.std(a,ddof=1)\n",
    "\n",
    "print(\"Média: \", xbarra)\n",
    "print(\"Desvio padrão amostral: \", dp)"
   ]
  },
  {
   "cell_type": "code",
   "execution_count": 6,
   "metadata": {},
   "outputs": [
    {
     "name": "stdout",
     "output_type": "stream",
     "text": [
      "18\n"
     ]
    },
    {
     "data": {
      "image/png": "[encoded data removed]",
      "text/plain": [
       "<matplotlib.figure.Figure at 0x1141aaf28>"
      ]
     },
     "metadata": {},
     "output_type": "display_data"
    }
   ],
   "source": [
    "pd.Series(l).hist(normed=True);\n",
    "print(n)"
   ]
  },
  {
   "cell_type": "code",
   "execution_count": 22,
   "metadata": {},
   "outputs": [
    {
     "name": "stdout",
     "output_type": "stream",
     "text": [
      "Limite inferior: 117.649\n",
      "Limite superior: 250.021175\n"
     ]
    }
   ],
   "source": [
    "n = 10\n",
    "xbarra_Boot = []\n",
    "\n",
    "B = 100000\n",
    "for i in range(B):\n",
    "    amostra = np.random.choice(l, size=n, replace=True)\n",
    "    xbarraB = np.mean(amostra)\n",
    "    xbarra_Boot.append(xbarraB)\n",
    "    \n",
    "#Intervalo de confiança Bootstrap Percentil (ou Quantil)\n",
    "#Confiança = 0.95\n",
    "\n",
    "Lim_inf = np.percentile(xbarra_Boot, 2.5)\n",
    "Lim_sup = np.percentile(xbarra_Boot, 97.5)\n",
    "print('Limite inferior:', Lim_inf)\n",
    "print('Limite superior:', Lim_sup)"
   ]
  },
  {
   "cell_type": "code",
   "execution_count": 24,
   "metadata": {},
   "outputs": [
    {
     "name": "stdout",
     "output_type": "stream",
     "text": [
      "Lim Inf: 118.251875\n",
      "Lim Sup: 250.4003\n"
     ]
    }
   ],
   "source": [
    "\n",
    "amostra=10000\n",
    "listadesvio=[]\n",
    "for i in range(amostra):\n",
    "    amostra = np.random.choice(l, size=n, replace=True)\n",
    "    add = np.mean(amostra)\n",
    "    listadesvio.append(add)\n",
    "\n",
    "Linf = np.percentile(listadesvio, 2.5)\n",
    "Lsup = np.percentile(listadesvio, 97.5)\n",
    "print('Lim Inf:', Linf)\n",
    "print('Lim Sup:', Lsup)"
   ]
  },
  {
   "cell_type": "code",
   "execution_count": 25,
   "metadata": {},
   "outputs": [
    {
     "data": {
      "image/png": "[encoded data removed]",
      "text/plain": [
       "<matplotlib.figure.Figure at 0x114180d68>"
      ]
     },
     "metadata": {},
     "output_type": "display_data"
    }
   ],
   "source": [
    "pd.Series(xbarra_Boot).plot.hist(normed=True, legend=False);"
   ]
  }
 ],
 "metadata": {
  "kernelspec": {
   "display_name": "Python 3",
   "language": "python",
   "name": "python3"
  },
  "language_info": {
   "codemirror_mode": {
    "name": "ipython",
    "version": 3
   },
   "file_extension": ".py",
   "mimetype": "text/x-python",
   "name": "python",
   "nbconvert_exporter": "python",
   "pygments_lexer": "ipython3",
   "version": "3.6.1"
  }
 },
 "nbformat": 4,
 "nbformat_minor": 2
}
